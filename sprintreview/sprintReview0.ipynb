{
 "cells": [
  {
   "cell_type": "code",
   "execution_count": 2,
   "metadata": {
    "language_info": {
     "name": "polyglot-notebook"
    },
    "polyglot_notebook": {
     "kernelName": "csharp"
    }
   },
   "outputs": [
    {
     "name": "stdout",
     "output_type": "stream",
     "text": [
      "Цветок rose распускается и радует глаз!\n",
      "Цветок начинает увядать\n",
      "Растение цветет\n",
      "Дерево живет уже 2 год\n"
     ]
    }
   ],
   "source": [
    "public class Plant\n",
    "{\n",
    "    public string Name;\n",
    "    public string Type;\n",
    "    public float Height;\n",
    "    public Plant(string name, string type, float height)\n",
    "    {\n",
    "        Name = name;\n",
    "        Type = type;\n",
    "        Height = height;\n",
    "    }\n",
    "    public void Blossom()\n",
    "    {\n",
    "        Console.WriteLine($\"Растение цветет\");\n",
    "    }\n",
    "    public void Grow(float height)\n",
    "    {\n",
    "        Height = height;\n",
    "    }\n",
    "}\n",
    "public class Flower : Plant\n",
    "{\n",
    "    public string Color;\n",
    "    public int Count;\n",
    "    public Flower(string name, string type, float height, string color, int count) : base(name, type, height)\n",
    "    {\n",
    "        Color = color;\n",
    "        Count = count;\n",
    "    }\n",
    "    public new void Blossom()\n",
    "    {\n",
    "        Console.WriteLine($\"Цветок {Name} распускается и радует глаз!\");\n",
    "    }\n",
    "    public void FadeAway()\n",
    "    {\n",
    "        Console.WriteLine(\"Цветок начинает увядать\");\n",
    "    }\n",
    "}\n",
    "public class Tree : Plant\n",
    "{\n",
    "    public int Age;\n",
    "    public string TypeOfTree;\n",
    "    public Tree(string name, string type, float height, int age, string typeoftree) : base(name, type, height)\n",
    "    {\n",
    "        Age = age;\n",
    "        TypeOfTree = typeoftree;\n",
    "    }\n",
    "    public void Цветение()\n",
    "    {\n",
    "        Console.WriteLine($\"Дерево {Name} покрывается новыми листьями!\");\n",
    "    }\n",
    "    public void GrowTree(int year) \n",
    "    {\n",
    "        Age = year;\n",
    "        Console.WriteLine($\"Дерево живет уже {Age} год\");\n",
    "    }\n",
    "}\n",
    "\n",
    "Flower rose = new Flower(\"rose\", \"flower\", 15, \"red\", 6);\n",
    "rose.Blossom();\n",
    "rose.FadeAway();\n",
    "Tree bereza = new Tree(\"Bereza\", \"Tree\", 50, 1, \"listvenn\");\n",
    "bereza.Blossom();\n",
    "bereza.GrowTree(2)\n"
   ]
  }
 ],
 "metadata": {
  "kernelspec": {
   "display_name": ".NET (C#)",
   "language": "C#",
   "name": ".net-csharp"
  },
  "language_info": {
   "name": "polyglot-notebook"
  },
  "polyglot_notebook": {
   "kernelInfo": {
    "defaultKernelName": "csharp",
    "items": [
     {
      "aliases": [],
      "name": "csharp"
     }
    ]
   }
  }
 },
 "nbformat": 4,
 "nbformat_minor": 2
}
