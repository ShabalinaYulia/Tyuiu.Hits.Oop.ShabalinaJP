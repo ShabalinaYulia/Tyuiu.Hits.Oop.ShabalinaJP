{
 "cells": [
  {
   "cell_type": "code",
   "execution_count": 3,
   "metadata": {
    "dotnet_interactive": {
     "language": "csharp"
    },
    "polyglot_notebook": {
     "kernelName": "csharp"
    }
   },
   "outputs": [
    {
     "name": "stdout",
     "output_type": "stream",
     "text": [
      "Core i5 installed.\n",
      "RTX 3060 installed.\n",
      "16GB DDR4 installed.\n",
      "1TB SSD installed.\n",
      "Gaming Computer.\n",
      "\n",
      "Total price: ¤730.00\n",
      "\n",
      "Core i5 installed.\n",
      "16GB DDR4 installed.\n",
      "1TB SSD installed.\n",
      "Office computer.\n",
      "\n",
      "Total price: ¤330.00\n",
      "\n",
      "16GB DDR4 removed.\n",
      "New total price: ¤250.00\n"
     ]
    }
   ],
   "source": [
    "using System;\n",
    "using System.Collections.Generic;\n",
    "\n",
    "public abstract class Component\n",
    "{\n",
    "    public string Name { get; set; }\n",
    "    public decimal Price { get; set; }\n",
    "\n",
    "    public abstract void GetInfo();\n",
    "    public override string ToString() => $\"{Name} - {Price:C}\";\n",
    "}\n",
    "public interface IInstallable\n",
    "{\n",
    "    void Install();\n",
    "}\n",
    "public class CPU : Component, IInstallable\n",
    "{\n",
    "    public override void GetInfo() => Console.WriteLine($\"CPU: {Name}, Price: {Price:C}\");\n",
    "    public void Install() => Console.WriteLine($\"{Name} installed.\");\n",
    "}\n",
    "public class RAM : Component, IInstallable\n",
    "{\n",
    "    public override void GetInfo() => Console.WriteLine($\"RAM: {Name}, Price: {Price:C}\");\n",
    "    public void Install() => Console.WriteLine($\"{Name} installed.\");\n",
    "}\n",
    "\n",
    "public class GPU : Component, IInstallable\n",
    "{\n",
    "    public override void GetInfo() => Console.WriteLine($\"GPU: {Name}, Price: {Price:C}\");\n",
    "    public void Install() => Console.WriteLine($\"{Name} installed.\");\n",
    "}\n",
    "\n",
    "public class HDD : Component, IInstallable\n",
    "{\n",
    "    public override void GetInfo() => Console.WriteLine($\"HDD: {Name}, Price: {Price:C}\");\n",
    "    public void Install() => Console.WriteLine($\"{Name} installed.\");\n",
    "}\n",
    "public class Computer\n",
    "{\n",
    "    private List<Component> components = new List<Component>();\n",
    "\n",
    "    public void AddComponent<T>(T component) where T : Component, IInstallable\n",
    "    {\n",
    "        components.Add(component);\n",
    "        component.Install();\n",
    "    }\n",
    "\n",
    "    public void RemoveComponent<T>(T component) where T : Component\n",
    "    {\n",
    "        if (components.Remove(component))\n",
    "        {\n",
    "            Console.WriteLine($\"{component.Name} removed.\");\n",
    "        }\n",
    "    }\n",
    "\n",
    "    public decimal GetTotalPrice()\n",
    "    {\n",
    "        decimal total = 0;\n",
    "        foreach (var component in components)\n",
    "        {\n",
    "            total += component.Price;\n",
    "        }\n",
    "        return total;\n",
    "    }\n",
    "}\n",
    "public static class ComputerFactory\n",
    "{\n",
    "    public static Computer CreateGamingPC(CPU cpu, GPU gpu, RAM ram, HDD hdd)\n",
    "    {\n",
    "        var pc = new Computer();\n",
    "        pc.AddComponent(cpu);\n",
    "        pc.AddComponent(gpu);\n",
    "        pc.AddComponent(ram);\n",
    "        pc.AddComponent(hdd);\n",
    "        Console.WriteLine(\"Gaming Computer.\\n\");\n",
    "        return pc;\n",
    "    }\n",
    "    public static Computer CreateOfficePC(CPU cpu, RAM ram, HDD hdd)\n",
    "    {\n",
    "        var pc = new Computer();\n",
    "        pc.AddComponent(cpu);\n",
    "        pc.AddComponent(ram);\n",
    "        pc.AddComponent(hdd);\n",
    "        Console.WriteLine(\"Office computer.\\n\");\n",
    "        return pc;\n",
    "    }\n",
    "    \n",
    "}\n",
    "var cpu = new CPU { Name = \"Core i5\", Price = 150.00M };\n",
    "var gpu = new GPU { Name = \"RTX 3060\", Price = 400.00M };\n",
    "var ram = new RAM { Name = \"16GB DDR4\", Price = 80.00M };\n",
    "var hdd = new HDD { Name = \"1TB SSD\", Price = 100.00M };\n",
    "\n",
    "var gamingPc = ComputerFactory.CreateGamingPC(cpu, gpu, ram, hdd);\n",
    "Console.WriteLine($\"Total price: {gamingPc.GetTotalPrice():C}\\n\");\n",
    "\n",
    "var officePc = ComputerFactory.CreateOfficePC(cpu, ram, hdd);\n",
    "Console.WriteLine($\"Total price: {officePc.GetTotalPrice():C}\\n\");\n",
    "\n",
    "officePc.RemoveComponent(ram);\n",
    "Console.WriteLine($\"New total price: {officePc.GetTotalPrice():C}\");\n",
    "\n"
   ]
  },
  {
   "cell_type": "code",
   "execution_count": null,
   "metadata": {
    "language_info": {
     "name": "polyglot-notebook"
    },
    "polyglot_notebook": {
     "kernelName": "csharp"
    }
   },
   "outputs": [],
   "source": []
  }
 ],
 "metadata": {
  "kernelspec": {
   "display_name": ".NET (C#)",
   "language": "C#",
   "name": ".net-csharp"
  },
  "polyglot_notebook": {
   "kernelInfo": {
    "defaultKernelName": "csharp",
    "items": [
     {
      "aliases": [],
      "languageName": "csharp",
      "name": "csharp"
     }
    ]
   }
  }
 },
 "nbformat": 4,
 "nbformat_minor": 2
}
