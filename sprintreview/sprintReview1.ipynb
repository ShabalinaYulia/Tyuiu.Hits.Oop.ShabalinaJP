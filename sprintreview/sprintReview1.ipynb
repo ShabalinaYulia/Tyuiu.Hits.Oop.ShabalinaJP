{
 "cells": [
  {
   "cell_type": "code",
   "execution_count": 3,
   "metadata": {
    "dotnet_interactive": {
     "language": "csharp"
    },
    "polyglot_notebook": {
     "kernelName": "csharp"
    }
   },
   "outputs": [],
   "source": [
    "public class Product\n",
    "{\n",
    "    private string Name {get; set;}\n",
    "    private decimal Price {get; set;}\n",
    "    public int Quantity {get; set;}\n",
    "    protected string Category {get; set;}\n",
    "    internal string Description {get; set;}\n",
    "    public Product(string name, decimal price, int quantity, string category, string description)\n",
    "    {\n",
    "        Name = name;\n",
    "        Price = price;\n",
    "        Quantity = quantity;\n",
    "        Category = category;\n",
    "        Description = description;\n",
    "    }\n",
    "    public decimal GetTotalPrice()\n",
    "    {\n",
    "        return Price * Quantity;\n",
    "    }\n",
    "    public void UpdateQuantity(int amount)\n",
    "    {\n",
    "        Quantity = amount;\n",
    "    }\n",
    "    public string GetProductInfo()\n",
    "    {\n",
    "        return $\"Название товара: {Name}, цена: {Price}, количество: {Quantity}, категория: {Category}, описание: {Description}\";\n",
    "    }\n",
    "}\n",
    "public class Seller\n",
    "{\n",
    "    private string Name {get; set;}\n",
    "    private string Employeeld {get; set;}\n",
    "    protected decimal Salary {get; set;}\n",
    "    internal string ContactInfo {get; set;}\n",
    "    private List<Product> Products {get; set;}\n",
    "\n",
    "    public Seller(string name, string employeeld, decimal salary, string contactinfo)\n",
    "    {\n",
    "        Name = name;\n",
    "        Employeeld = employeeld;\n",
    "        Salary = salary;\n",
    "        ContactInfo = contactinfo;\n",
    "        Products = new List<Product>();\n",
    "    }\n",
    "    public void AddProduct(Product product)\n",
    "    {\n",
    "        Products.Add(product);\n",
    "    }\n",
    "    public void SellProduct(Product product, int quantity)\n",
    "    {\n",
    "        if (product.Quantity >= quantity)\n",
    "        {\n",
    "            product.Quantity -= quantity;\n",
    "        }\n",
    "    }\n",
    "    public string GetSellerInfo()\n",
    "    {\n",
    "        return $\"Имя продавца: {Name}, ID сотрудника: {Employeeld}, контактная информация: {ContactInfo}\";\n",
    "    }\n",
    "}\n",
    "\n",
    "public class Store\n",
    "{\n",
    "    private string StoreName {get; set;}\n",
    "    private string Location {get; set;}\n",
    "    public string storeHours {get; set;}\n",
    "    private List<Product> Products {get; set;}\n",
    "    private List<Seller> Sellers {get; set;}\n",
    "\n",
    "    public Store(string storename, string location, string storehours)\n",
    "    {\n",
    "        StoreName = storename;\n",
    "        Location = location;\n",
    "        storeHours = storehours;\n",
    "        Products = new List<Product>();\n",
    "        Sellers = new List<Seller>();\n",
    "    }\n",
    "    public void AddSeller(Seller seller)\n",
    "    {\n",
    "        Sellers.Add(seller);\n",
    "\n",
    "    }\n",
    "    public void ListProducts()\n",
    "    {\n",
    "        foreach (var product in Products)\n",
    "        {\n",
    "            Console.WriteLine(product.GetProductInfo());\n",
    "        }\n",
    "    }\n",
    "    public string GetStoreInfo()\n",
    "    {\n",
    "        return $\"Название магазина: {StoreName}, местоположение: {Location}, часы работы: {storeHours}\";\n",
    "    }\n",
    "}"
   ]
  }
 ],
 "metadata": {
  "kernelspec": {
   "display_name": ".NET (C#)",
   "language": "C#",
   "name": ".net-csharp"
  },
  "polyglot_notebook": {
   "kernelInfo": {
    "defaultKernelName": "csharp",
    "items": [
     {
      "aliases": [],
      "languageName": "csharp",
      "name": "csharp"
     }
    ]
   }
  }
 },
 "nbformat": 4,
 "nbformat_minor": 2
}
