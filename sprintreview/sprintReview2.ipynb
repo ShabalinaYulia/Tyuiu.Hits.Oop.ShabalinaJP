{
 "cells": [
  {
   "cell_type": "code",
   "execution_count": 1,
   "metadata": {
    "dotnet_interactive": {
     "language": "csharp"
    },
    "polyglot_notebook": {
     "kernelName": "csharp"
    }
   },
   "outputs": [
    {
     "name": "stdout",
     "output_type": "stream",
     "text": [
      "Имя: Иван, Должность: Разработчик, Зарплата: 50000\n",
      "Имя: Анна, Должность: Менеджер, Зарплата: 70000\n",
      "Отдел: Разработка\n",
      "Имя: Сергей, Должность: Руководитель проекта, Зарплата: 90000\n",
      "Отдел: Маркетинг\n",
      "Проект: Проект X\n",
      "Отчет по проекту Проект X: Успешно завершён.\n",
      "Члены команды:System.String[]\n",
      "сотрудник1\n",
      "сотрудник2\n",
      "сотрудник3\n"
     ]
    }
   ],
   "source": [
    "public class Employee\n",
    "{\n",
    "    public string Name {get; set;}\n",
    "    public string Position {get; set; }\n",
    "    public float Salary {get; set; }\n",
    "\n",
    "    public Employee(string name, string position, float salary)\n",
    "    {\n",
    "        Name = name;\n",
    "        Position = position;\n",
    "        Salary = salary;\n",
    "    }\n",
    "    public virtual void PrintInfo()\n",
    "    {\n",
    "        Console.WriteLine($\"Имя: {Name}, Должность: {Position}, Зарплата: {Salary}\");\n",
    "    }\n",
    "}\n",
    "public class Manager : Employee\n",
    "{\n",
    "    public string Department { get; set; }\n",
    "\n",
    "    public Manager(string name, string position, float salary, string department)\n",
    "        : base(name, position, salary)\n",
    "    {\n",
    "            Department = department;\n",
    "    }\n",
    "\n",
    "    public override void PrintInfo()\n",
    "    {\n",
    "        base.PrintInfo();\n",
    "        Console.WriteLine($\"Отдел: {Department}\");\n",
    "    }\n",
    "}\n",
    "public class ProjectManager : Manager, IReportable, ITeamLeader\n",
    "{\n",
    "    public string ProjectName { get; set; }\n",
    "\n",
    "    public ProjectManager(string name, string position, float salary, string department, string projectname) \n",
    "        : base (name, position, salary, department)\n",
    "    {\n",
    "        ProjectName = projectname;\n",
    "    }\n",
    "         \n",
    "    public override void PrintInfo()\n",
    "    {\n",
    "        base.PrintInfo();\n",
    "        Console.WriteLine($\"Проект: {ProjectName}\");\n",
    "    }\n",
    "\n",
    "    public string GenerateReport()\n",
    "    {\n",
    "        return $\"Отчет по проекту {ProjectName}: Успешно завершён.\";\n",
    "    }\n",
    "        \n",
    "    public string[] GetTeamMembers()\n",
    "    {\n",
    "        return new string[] {\"сотрудник1\", \"сотрудник2\", \"сотрудник3\"};\n",
    "    }\n",
    "}\n",
    "public interface IReportable\n",
    "{\n",
    "    string GenerateReport();\n",
    "}\n",
    "public interface ITeamLeader\n",
    "{\n",
    "    string[] GetTeamMembers();\n",
    "}   \n",
    "\n",
    "Employee employee = new Employee(\"Иван\", \"Разработчик\", 50000);\n",
    "Manager manager = new Manager(\"Анна\", \"Менеджер\", 70000, \"Разработка\");\n",
    "ProjectManager projectManager = new ProjectManager(\"Сергей\", \"Руководитель проекта\", 90000, \"Маркетинг\", \"Проект X\");\n",
    "\n",
    "employee.PrintInfo();\n",
    "manager.PrintInfo();\n",
    "projectManager.PrintInfo();\n",
    "\n",
    "string report = projectManager.GenerateReport();\n",
    "Console.WriteLine(report);\n",
    "string[] teamMembers = projectManager.GetTeamMembers();\n",
    "Console.WriteLine(\"Члены команды:\" + teamMembers);\n",
    "foreach (string member in teamMembers)\n",
    "{\n",
    "    Console.WriteLine(member);\n",
    "}"
   ]
  },
  {
   "cell_type": "code",
   "execution_count": null,
   "metadata": {
    "language_info": {
     "name": "polyglot-notebook"
    },
    "polyglot_notebook": {
     "kernelName": "csharp"
    }
   },
   "outputs": [],
   "source": []
  }
 ],
 "metadata": {
  "kernelspec": {
   "display_name": ".NET (C#)",
   "language": "C#",
   "name": ".net-csharp"
  },
  "polyglot_notebook": {
   "kernelInfo": {
    "defaultKernelName": "csharp",
    "items": [
     {
      "aliases": [],
      "languageName": "csharp",
      "name": "csharp"
     }
    ]
   }
  }
 },
 "nbformat": 4,
 "nbformat_minor": 2
}
